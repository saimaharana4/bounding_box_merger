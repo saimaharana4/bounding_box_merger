{
 "cells": [
  {
   "cell_type": "markdown",
   "metadata": {},
   "source": [
    "### Develop the Merging Algorithm\n",
    "1. Load the Data: Use pd.read_csv to load the bounding box coordinates from the CSV files you've created.\n",
    "2. Data Preprocessing: Normalize the bounding box coordinates if necessary, ensuring they're in a consistent format and scale.\n",
    "3. Clustering Algorithm: Implement a clustering algorithm such as DBSCAN to group closely related bounding boxes based on their spatial relationships. Use the centroids or corners of the bounding boxes as features for clustering.\n",
    "4. Merge Bounding Boxes: For each cluster of bounding boxes identified by the clustering algorithm, calculate the minimum and maximum coordinates to find the merged bounding box that encompasses all boxes within the cluster.\n"
   ]
  },
  {
   "cell_type": "markdown",
   "metadata": {},
   "source": [
    "# Exploratory Data Analysis"
   ]
  },
  {
   "cell_type": "code",
   "execution_count": 171,
   "metadata": {},
   "outputs": [
    {
     "data": {
      "text/plain": [
       "(x1    int32\n",
       " y1    int32\n",
       " x2    int32\n",
       " y2    int32\n",
       " dtype: object,\n",
       "      x1    y1    x2    y2\n",
       " 0  2929  1727  3056  1801\n",
       " 1   714  3826   784  4033\n",
       " 2  1970  2461  2028  2654\n",
       " 3  5690  2156  5801  2247\n",
       " 4  4026  3674  4138  3781,\n",
       " (5006, 4))"
      ]
     },
     "execution_count": 171,
     "metadata": {},
     "output_type": "execute_result"
    }
   ],
   "source": [
    "import pandas as pd\n",
    "from sklearn.cluster import DBSCAN\n",
    "from sklearn.preprocessing import StandardScaler\n",
    "import numpy as np\n",
    "import matplotlib.pyplot as plt\n",
    "import matplotlib.pyplot as patches\n",
    "from sklearn.metrics import davies_bouldin_score\n",
    "from sklearn.metrics import calinski_harabasz_score\n",
    "\n",
    "# Load the data from both CSV files\n",
    "list_a_path = r\"D:\\bounding_box_merger\\data\\processed\\csv\\list_a.csv\"\n",
    "list_b_path = r\"D:\\bounding_box_merger\\data\\processed\\csv\\list_b.csv\"\n",
    "\n",
    "list_a_df = pd.read_csv(list_a_path)\n",
    "list_b_df = pd.read_csv(list_b_path)\n",
    "\n",
    "# First, let's combine List A and List B into a single DataFrame for easier processing.\n",
    "combined_df = pd.concat([list_a_df, list_b_df], ignore_index=True)\n",
    "\n",
    "# Ensure all coordinates are integers\n",
    "combined_df[['x1', 'y1', 'x2', 'y2']] = combined_df[['x1', 'y1', 'x2', 'y2']].astype(int)\n",
    "\n",
    "# Check the data types and first few rows to confirm normalization\n",
    "combined_df.dtypes, combined_df.head(), combined_df.shape\n"
   ]
  },
  {
   "cell_type": "code",
   "execution_count": null,
   "metadata": {},
   "outputs": [],
   "source": []
  },
  {
   "cell_type": "markdown",
   "metadata": {},
   "source": [
    "# Using DBSCAN for Clustering the dataset"
   ]
  },
  {
   "cell_type": "markdown",
   "metadata": {},
   "source": [
    "Here we will use general DBSCAN with no hyperparameter tuning"
   ]
  },
  {
   "cell_type": "code",
   "execution_count": 172,
   "metadata": {},
   "outputs": [
    {
     "name": "stdout",
     "output_type": "stream",
     "text": [
      "Merged bounding boxes saved to D:\\bounding_box_merger\\data\\processed\\csv\\merged_boxes_no_tunning.csv\n"
     ]
    },
    {
     "data": {
      "text/html": [
       "<div>\n",
       "<style scoped>\n",
       "    .dataframe tbody tr th:only-of-type {\n",
       "        vertical-align: middle;\n",
       "    }\n",
       "\n",
       "    .dataframe tbody tr th {\n",
       "        vertical-align: top;\n",
       "    }\n",
       "\n",
       "    .dataframe thead th {\n",
       "        text-align: right;\n",
       "    }\n",
       "</style>\n",
       "<table border=\"1\" class=\"dataframe\">\n",
       "  <thead>\n",
       "    <tr style=\"text-align: right;\">\n",
       "      <th></th>\n",
       "      <th>x1</th>\n",
       "      <th>y1</th>\n",
       "      <th>x2</th>\n",
       "      <th>y2</th>\n",
       "      <th>cluster</th>\n",
       "    </tr>\n",
       "  </thead>\n",
       "  <tbody>\n",
       "    <tr>\n",
       "      <th>0</th>\n",
       "      <td>163</td>\n",
       "      <td>19</td>\n",
       "      <td>8030</td>\n",
       "      <td>5458</td>\n",
       "      <td>0</td>\n",
       "    </tr>\n",
       "    <tr>\n",
       "      <th>1</th>\n",
       "      <td>14022</td>\n",
       "      <td>360</td>\n",
       "      <td>5055</td>\n",
       "      <td>3944</td>\n",
       "      <td>1</td>\n",
       "    </tr>\n",
       "  </tbody>\n",
       "</table>\n",
       "</div>"
      ],
      "text/plain": [
       "      x1   y1    x2    y2  cluster\n",
       "0    163   19  8030  5458        0\n",
       "1  14022  360  5055  3944        1"
      ]
     },
     "execution_count": 172,
     "metadata": {},
     "output_type": "execute_result"
    }
   ],
   "source": [
    "# Step 1: Calculate center points of bounding boxes\n",
    "combined_df['center_x'] = (combined_df['x1'] + combined_df['x2']) / 2\n",
    "combined_df['center_y'] = (combined_df['y1'] + combined_df['y2']) / 2\n",
    "\n",
    "# Features for clustering: center points\n",
    "features = combined_df[['center_x', 'center_y']]\n",
    "\n",
    "# Standardize features to have mean=0 and variance=1, improving DBSCAN performance\n",
    "scaler = StandardScaler()\n",
    "features_scaled = scaler.fit_transform(features)\n",
    "\n",
    "# Step 2: Apply DBSCAN clustering\n",
    "# eps and min_samples are chosen based on exploratory analysis and may need adjustment\n",
    "dbscan = DBSCAN()\n",
    "clusters = dbscan.fit_predict(features_scaled)\n",
    "\n",
    "# Add cluster labels to the DataFrame\n",
    "combined_df['cluster'] = clusters\n",
    "\n",
    "# Step 3: Merge Bounding Boxes within Clusters\n",
    "# For each cluster, calculate the minimum enclosing bounding box\n",
    "merged_boxes = []\n",
    "for cluster in set(clusters):\n",
    "    if cluster == -1:  # Skip noise points\n",
    "        continue\n",
    "    cluster_boxes = combined_df[combined_df['cluster'] == cluster]\n",
    "    min_x = cluster_boxes['x1'].min()\n",
    "    min_y = cluster_boxes['y1'].min()\n",
    "    max_x = cluster_boxes['x2'].max()\n",
    "    max_y = cluster_boxes['y2'].max()\n",
    "    merged_boxes.append([min_x, min_y, max_x, max_y, cluster])\n",
    "\n",
    "# Create a DataFrame for merged bounding boxes\n",
    "merged_boxes_df = pd.DataFrame(merged_boxes, columns=['x1', 'y1', 'x2', 'y2', 'cluster'])\n",
    "\n",
    "# Save to CSV\n",
    "merged_boxes_csv_path = r\"D:\\bounding_box_merger\\data\\processed\\csv\\merged_boxes_no_tunning.csv\"\n",
    "merged_boxes_df.to_csv(merged_boxes_csv_path, index=False)\n",
    "print(f\"Merged bounding boxes saved to {merged_boxes_csv_path}\")\n",
    "\n",
    "# Display the first few merged bounding boxes\n",
    "merged_boxes_df\n"
   ]
  },
  {
   "cell_type": "markdown",
   "metadata": {},
   "source": [
    "Evaluation for DBSCAN Model"
   ]
  },
  {
   "cell_type": "code",
   "execution_count": 173,
   "metadata": {},
   "outputs": [
    {
     "name": "stdout",
     "output_type": "stream",
     "text": [
      "Calinski-Harabasz Score: 358.0713084852096\n",
      "Davies-Bouldin Score: 1.2976953602227432\n"
     ]
    }
   ],
   "source": [
    "score_cal = calinski_harabasz_score(features, clusters)\n",
    "score_dav = davies_bouldin_score(features, clusters)\n",
    "print(f\"Calinski-Harabasz Score: {score_cal}\")\n",
    "print(f\"Davies-Bouldin Score: {score_dav}\")"
   ]
  },
  {
   "cell_type": "markdown",
   "metadata": {},
   "source": [
    "Lets calcualets the eps and min_samples"
   ]
  },
  {
   "cell_type": "code",
   "execution_count": 174,
   "metadata": {},
   "outputs": [
    {
     "data": {
      "image/png": "[encoded data removed]",
      "text/plain": [
       "<Figure size 1000x800 with 1 Axes>"
      ]
     },
     "metadata": {},
     "output_type": "display_data"
    }
   ],
   "source": [
    "fig, ax = plt.subplots(figsize=(10, 8))\n",
    "\n",
    "# Assuming a maximum canvas size based on the maximum coordinates observed\n",
    "canvas_width = max(combined_df['x2'].max(), merged_boxes_df['x2'].max()) + 100\n",
    "canvas_height = max(combined_df['y2'].max(), merged_boxes_df['y2'].max()) + 100\n",
    "\n",
    "ax.set_xlim(0, canvas_width)\n",
    "ax.set_ylim(0, canvas_height)\n",
    "ax.invert_yaxis()  # Invert the y-axis to match image coordinates\n",
    "ax.set_title('Merged Bounding Boxes Visualization')\n",
    "\n",
    "for _, row in merged_boxes_df.iterrows():\n",
    "    rect = patches.Rectangle((row['x1'], row['y1']), row['x2']-row['x1'], row['y2']-row['y1'], linewidth=1, edgecolor='b', facecolor='none')\n",
    "    ax.add_patch(rect)\n",
    "\n",
    "plt.show()"
   ]
  },
  {
   "cell_type": "code",
   "execution_count": 175,
   "metadata": {},
   "outputs": [
    {
     "name": "stdout",
     "output_type": "stream",
     "text": [
      "EPS: 0.1, Min_samples: 1, Clusters: 197\n",
      "EPS: 0.1, Min_samples: 2, Clusters: 77\n",
      "EPS: 0.1, Min_samples: 3, Clusters: 35\n",
      "EPS: 0.1, Min_samples: 4, Clusters: 25\n",
      "EPS: 0.1, Min_samples: 5, Clusters: 24\n",
      "EPS: 0.1, Min_samples: 6, Clusters: 21\n",
      "EPS: 0.1, Min_samples: 7, Clusters: 23\n",
      "EPS: 0.1, Min_samples: 8, Clusters: 27\n",
      "EPS: 0.1, Min_samples: 9, Clusters: 23\n"
     ]
    },
    {
     "name": "stdout",
     "output_type": "stream",
     "text": [
      "EPS: 0.2, Min_samples: 1, Clusters: 39\n",
      "EPS: 0.2, Min_samples: 2, Clusters: 20\n",
      "EPS: 0.2, Min_samples: 3, Clusters: 12\n",
      "EPS: 0.2, Min_samples: 4, Clusters: 9\n",
      "EPS: 0.2, Min_samples: 5, Clusters: 6\n",
      "EPS: 0.2, Min_samples: 6, Clusters: 4\n",
      "EPS: 0.2, Min_samples: 7, Clusters: 4\n",
      "EPS: 0.2, Min_samples: 8, Clusters: 6\n",
      "EPS: 0.2, Min_samples: 9, Clusters: 3\n",
      "EPS: 0.30000000000000004, Min_samples: 1, Clusters: 16\n",
      "EPS: 0.30000000000000004, Min_samples: 2, Clusters: 8\n",
      "EPS: 0.30000000000000004, Min_samples: 3, Clusters: 4\n",
      "EPS: 0.30000000000000004, Min_samples: 4, Clusters: 6\n",
      "EPS: 0.30000000000000004, Min_samples: 5, Clusters: 4\n",
      "EPS: 0.30000000000000004, Min_samples: 6, Clusters: 3\n",
      "EPS: 0.30000000000000004, Min_samples: 7, Clusters: 3\n",
      "EPS: 0.30000000000000004, Min_samples: 8, Clusters: 2\n",
      "EPS: 0.30000000000000004, Min_samples: 9, Clusters: 3\n",
      "EPS: 0.4, Min_samples: 1, Clusters: 9\n",
      "EPS: 0.4, Min_samples: 2, Clusters: 5\n",
      "EPS: 0.4, Min_samples: 3, Clusters: 3\n",
      "EPS: 0.4, Min_samples: 4, Clusters: 2\n",
      "EPS: 0.4, Min_samples: 5, Clusters: 2\n",
      "EPS: 0.4, Min_samples: 6, Clusters: 2\n",
      "EPS: 0.4, Min_samples: 7, Clusters: 2\n",
      "EPS: 0.4, Min_samples: 8, Clusters: 3\n",
      "EPS: 0.4, Min_samples: 9, Clusters: 3\n",
      "EPS: 0.5, Min_samples: 1, Clusters: 7\n",
      "EPS: 0.5, Min_samples: 2, Clusters: 3\n",
      "EPS: 0.5, Min_samples: 3, Clusters: 2\n",
      "EPS: 0.5, Min_samples: 4, Clusters: 2\n",
      "EPS: 0.5, Min_samples: 5, Clusters: 2\n",
      "EPS: 0.5, Min_samples: 6, Clusters: 2\n",
      "EPS: 0.5, Min_samples: 7, Clusters: 2\n",
      "EPS: 0.5, Min_samples: 8, Clusters: 2\n",
      "EPS: 0.5, Min_samples: 9, Clusters: 2\n",
      "EPS: 0.6, Min_samples: 1, Clusters: 7\n",
      "EPS: 0.6, Min_samples: 2, Clusters: 3\n",
      "EPS: 0.6, Min_samples: 3, Clusters: 2\n",
      "EPS: 0.6, Min_samples: 4, Clusters: 2\n",
      "EPS: 0.6, Min_samples: 5, Clusters: 2\n",
      "EPS: 0.6, Min_samples: 6, Clusters: 2\n",
      "EPS: 0.6, Min_samples: 7, Clusters: 2\n",
      "EPS: 0.6, Min_samples: 8, Clusters: 2\n",
      "EPS: 0.6, Min_samples: 9, Clusters: 2\n",
      "EPS: 0.7000000000000001, Min_samples: 1, Clusters: 7\n",
      "EPS: 0.7000000000000001, Min_samples: 2, Clusters: 3\n",
      "EPS: 0.7000000000000001, Min_samples: 3, Clusters: 2\n",
      "EPS: 0.7000000000000001, Min_samples: 4, Clusters: 2\n",
      "EPS: 0.7000000000000001, Min_samples: 5, Clusters: 2\n",
      "EPS: 0.7000000000000001, Min_samples: 6, Clusters: 2\n",
      "EPS: 0.7000000000000001, Min_samples: 7, Clusters: 2\n",
      "EPS: 0.7000000000000001, Min_samples: 8, Clusters: 2\n",
      "EPS: 0.7000000000000001, Min_samples: 9, Clusters: 2\n",
      "EPS: 0.8, Min_samples: 1, Clusters: 6\n",
      "EPS: 0.8, Min_samples: 2, Clusters: 2\n",
      "EPS: 0.8, Min_samples: 3, Clusters: 1\n",
      "EPS: 0.8, Min_samples: 4, Clusters: 1\n",
      "EPS: 0.8, Min_samples: 5, Clusters: 1\n",
      "EPS: 0.8, Min_samples: 6, Clusters: 1\n",
      "EPS: 0.8, Min_samples: 7, Clusters: 1\n",
      "EPS: 0.8, Min_samples: 8, Clusters: 1\n",
      "EPS: 0.8, Min_samples: 9, Clusters: 1\n",
      "EPS: 0.9, Min_samples: 1, Clusters: 6\n",
      "EPS: 0.9, Min_samples: 2, Clusters: 2\n",
      "EPS: 0.9, Min_samples: 3, Clusters: 1\n",
      "EPS: 0.9, Min_samples: 4, Clusters: 1\n",
      "EPS: 0.9, Min_samples: 5, Clusters: 1\n",
      "EPS: 0.9, Min_samples: 6, Clusters: 1\n",
      "EPS: 0.9, Min_samples: 7, Clusters: 1\n",
      "EPS: 0.9, Min_samples: 8, Clusters: 1\n",
      "EPS: 0.9, Min_samples: 9, Clusters: 1\n"
     ]
    }
   ],
   "source": [
    "\n",
    "#iteratite the best approach for eps\n",
    "for eps in np.arange(0.1, 1.0, 0.1):\n",
    "    for min_samples in range(1, 10):\n",
    "        dbscan = DBSCAN(eps=eps, min_samples=min_samples)\n",
    "        clusters = dbscan.fit_predict(features_scaled)\n",
    "        print(f\"EPS: {eps}, Min_samples: {min_samples}, Clusters: {len(set(clusters)) - (1 if -1 in clusters else 0)}\")\n"
   ]
  },
  {
   "cell_type": "markdown",
   "metadata": {},
   "source": [
    "### Recommendations:- \n",
    "* Intermediate eps Values: Configurations with eps around 0.3 to 0.6 show a promising balance, reducing the number of clusters compared to very low eps values without collapsing everything into one or two clusters. Within this range:\n",
    "* For eps = 0.3, min_samples = 2 to 4 results in a moderate number of clusters (between 8 and 4), which might indicate a balanced approach.\n",
    "* For eps = 0.4 and eps = 0.5, min_samples = 2 and above tend to offer a low but potentially meaningful number of clusters with minimal noise.\n",
    "\n",
    "So we will choose eps with 0.6 and min_samples with 3"
   ]
  },
  {
   "cell_type": "code",
   "execution_count": 176,
   "metadata": {},
   "outputs": [
    {
     "name": "stdout",
     "output_type": "stream",
     "text": [
      "Merged bounding boxes saved to D:\\bounding_box_merger\\data\\processed\\csv\\merged_boxes.csv\n"
     ]
    },
    {
     "data": {
      "text/html": [
       "<div>\n",
       "<style scoped>\n",
       "    .dataframe tbody tr th:only-of-type {\n",
       "        vertical-align: middle;\n",
       "    }\n",
       "\n",
       "    .dataframe tbody tr th {\n",
       "        vertical-align: top;\n",
       "    }\n",
       "\n",
       "    .dataframe thead th {\n",
       "        text-align: right;\n",
       "    }\n",
       "</style>\n",
       "<table border=\"1\" class=\"dataframe\">\n",
       "  <thead>\n",
       "    <tr style=\"text-align: right;\">\n",
       "      <th></th>\n",
       "      <th>x1</th>\n",
       "      <th>y1</th>\n",
       "      <th>x2</th>\n",
       "      <th>y2</th>\n",
       "      <th>cluster</th>\n",
       "    </tr>\n",
       "  </thead>\n",
       "  <tbody>\n",
       "    <tr>\n",
       "      <th>0</th>\n",
       "      <td>163</td>\n",
       "      <td>19</td>\n",
       "      <td>8030</td>\n",
       "      <td>5458</td>\n",
       "      <td>0</td>\n",
       "    </tr>\n",
       "    <tr>\n",
       "      <th>1</th>\n",
       "      <td>14022</td>\n",
       "      <td>244</td>\n",
       "      <td>5055</td>\n",
       "      <td>4447</td>\n",
       "      <td>1</td>\n",
       "    </tr>\n",
       "  </tbody>\n",
       "</table>\n",
       "</div>"
      ],
      "text/plain": [
       "      x1   y1    x2    y2  cluster\n",
       "0    163   19  8030  5458        0\n",
       "1  14022  244  5055  4447        1"
      ]
     },
     "execution_count": 176,
     "metadata": {},
     "output_type": "execute_result"
    }
   ],
   "source": [
    "# Step 1: Calculate center points of bounding boxes\n",
    "combined_df['center_x'] = (combined_df['x1'] + combined_df['x2']) / 2\n",
    "combined_df['center_y'] = (combined_df['y1'] + combined_df['y2']) / 2\n",
    "\n",
    "# Features for clustering: center points\n",
    "features = combined_df[['center_x', 'center_y']]\n",
    "\n",
    "# Standardize features to have mean=0 and variance=1, improving DBSCAN performance\n",
    "scaler = StandardScaler()\n",
    "features_scaled = scaler.fit_transform(features)\n",
    "\n",
    "# Step 2: Apply DBSCAN clustering\n",
    "# eps and min_samples are chosen based on exploratory analysis and may need adjustment\n",
    "dbscan = DBSCAN(eps = 0.6, min_samples=3)\n",
    "clusters = dbscan.fit_predict(features_scaled)\n",
    "\n",
    "# Add cluster labels to the DataFrame\n",
    "combined_df['cluster'] = clusters\n",
    "\n",
    "# Step 3: Merge Bounding Boxes within Clusters\n",
    "# For each cluster, calculate the minimum enclosing bounding box\n",
    "merged_boxes = []\n",
    "for cluster in set(clusters):\n",
    "    if cluster == -1:  # Skip noise points\n",
    "        continue\n",
    "    cluster_boxes = combined_df[combined_df['cluster'] == cluster]\n",
    "    min_x = cluster_boxes['x1'].min()\n",
    "    min_y = cluster_boxes['y1'].min()\n",
    "    max_x = cluster_boxes['x2'].max()\n",
    "    max_y = cluster_boxes['y2'].max()\n",
    "    merged_boxes.append([min_x, min_y, max_x, max_y, cluster])\n",
    "\n",
    "# Create a DataFrame for merged bounding boxes\n",
    "merged_boxes_df = pd.DataFrame(merged_boxes, columns=['x1', 'y1', 'x2', 'y2', 'cluster'])\n",
    "  # Display the first few merged bounding boxes\n",
    "# Save to CSV\n",
    "merged_boxes_csv_path = r\"D:\\bounding_box_merger\\data\\processed\\csv\\merged_boxes.csv\"\n",
    "merged_boxes_df.to_csv(merged_boxes_csv_path, index=False)\n",
    "print(f\"Merged bounding boxes saved to {merged_boxes_csv_path}\")\n",
    "\n",
    "merged_boxes_df\n"
   ]
  },
  {
   "cell_type": "code",
   "execution_count": 177,
   "metadata": {},
   "outputs": [
    {
     "data": {
      "image/png": "[encoded data removed]",
      "text/plain": [
       "<Figure size 1000x800 with 1 Axes>"
      ]
     },
     "metadata": {},
     "output_type": "display_data"
    }
   ],
   "source": [
    "\n",
    "# Set up a blank canvas for visualization\n",
    "fig, ax = plt.subplots(figsize=(10, 8))\n",
    "\n",
    "# Assuming a maximum canvas size based on the maximum coordinates observed\n",
    "canvas_width = max(combined_df['x2'].max(), merged_boxes_df['x2'].max()) + 100\n",
    "canvas_height = max(combined_df['y2'].max(), merged_boxes_df['y2'].max()) + 100\n",
    "\n",
    "ax.set_xlim(0, canvas_width)\n",
    "ax.set_ylim(0, canvas_height)\n",
    "ax.invert_yaxis()  # Invert the y-axis to match image coordinates\n",
    "ax.set_title('Merged Bounding Boxes Visualization')\n",
    "\n",
    "# Plot each merged bounding box\n",
    "for _, row in merged_boxes_df.iterrows():\n",
    "    rect = patches.Rectangle((row['x1'], row['y1']), row['x2']-row['x1'], row['y2']-row['y1'], linewidth=1, edgecolor='b', facecolor='none')\n",
    "    ax.add_patch(rect)\n",
    "\n",
    "plt.show()"
   ]
  },
  {
   "cell_type": "markdown",
   "metadata": {},
   "source": [
    "# Evaluation\n"
   ]
  },
  {
   "cell_type": "code",
   "execution_count": 178,
   "metadata": {},
   "outputs": [
    {
     "name": "stdout",
     "output_type": "stream",
     "text": [
      "Calinski-Harabasz Score: 379.0938313877749\n",
      "Davies-Bouldin Score: 1.0086454327904484\n"
     ]
    }
   ],
   "source": [
    "score_cal = calinski_harabasz_score(features, clusters)\n",
    "score_dav = davies_bouldin_score(features, clusters)\n",
    "print(f\"Calinski-Harabasz Score: {score_cal}\")\n",
    "print(f\"Davies-Bouldin Score: {score_dav}\")"
   ]
  }
 ],
 "metadata": {
  "kernelspec": {
   "display_name": "venv",
   "language": "python",
   "name": "python3"
  },
  "language_info": {
   "codemirror_mode": {
    "name": "ipython",
    "version": 3
   },
   "file_extension": ".py",
   "mimetype": "text/x-python",
   "name": "python",
   "nbconvert_exporter": "python",
   "pygments_lexer": "ipython3",
   "version": "3.10.0"
  }
 },
 "nbformat": 4,
 "nbformat_minor": 2
}
