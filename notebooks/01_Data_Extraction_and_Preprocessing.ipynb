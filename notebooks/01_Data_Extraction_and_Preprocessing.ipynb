{
 "cells": [
  {
   "cell_type": "markdown",
   "metadata": {},
   "source": [
    "---\n",
    "\n",
    "# Bounding Box Merger Project\n",
    "\n",
    "## Objective\n",
    "\n",
    "The goal of this project is to address a unique challenge involving **Optical Character Recognition (OCR)** and **data science algorithms** to work with images of an Excel sheet. Each image contains two columns of bounding box coordinates with each row depicting coordinates that are closely related and could potentially be merged into a single bounding box. Specifically, the project aims to:\n",
    "\n",
    "1. Develop an **OCR-based pipeline** to extract data from images and save this data into a CSV file.\n",
    "2. Create a **data science model** to automatically identify and merge these related bounding boxes.\n",
    "\n",
    "### Background\n",
    "\n",
    "The dataset consists of a ZIP folder named `screening_data_csv.zip`, which contains **51 images**. Each image is a part of an Excel sheet showcasing two columns: **List A** and **List B**. These columns contain bounding box coordinates in the format `[x1, y1, x2, y2]`. The coordinates in each row of List A correspond to matched bounding box coordinates in the same row of List B, indicating pairs that are closely related and can be merged.\n",
    "\n",
    "### Expected Output\n",
    "\n",
    "The project's final output should be a list of coordinates from Lists A and B, highlighting which bounding boxes can be combined into a single bounding box. This involves:\n",
    "\n",
    "- Accurately identifying closely related bounding boxes.\n",
    "- Merging these bounding boxes into a single entity.\n",
    "\n",
    "### Deliverables\n",
    "\n",
    "1. **OCR Pipeline Code**: To convert image data into CSV format.\n",
    "2. **Data Science Model Code**: For merging related bounding boxes.\n",
    "3. **Evaluation Metrics**: To assess the model's accuracy and efficiency in merging bounding boxes.\n",
    "4. **Documentation**: Detailing the approach, algorithms used, and instructions for system execution on new datasets.\n",
    "\n",
    "This project not only tests our ability to apply OCR technology but also challenges us to leverage data science algorithms for spatial analysis and decision-making. Let's embark on this exciting journey to develop a comprehensive solution for bounding box analysis.\n",
    "\n",
    "---\n"
   ]
  },
  {
   "cell_type": "markdown",
   "metadata": {},
   "source": [
    "# Data Extraction "
   ]
  },
  {
   "cell_type": "markdown",
   "metadata": {},
   "source": [
    "### 1. Unzip the zip file and save it in the data/processed directory"
   ]
  },
  {
   "cell_type": "code",
   "execution_count": 78,
   "metadata": {},
   "outputs": [
    {
     "name": "stdout",
     "output_type": "stream",
     "text": [
      "Files extracted to D:\\bounding_box_merger\\data\\processed\\images\n"
     ]
    }
   ],
   "source": [
    "# import zipfile\n",
    "# import os\n",
    "\n",
    "# # Path to your ZIP file\n",
    "# zip_file_path = r\"D:\\bounding_box_merger\\data\\raw\\screening_data_csv.zip\"\n",
    "\n",
    "# # Destination folder where you want to place the unzipped files\n",
    "# destination_path = r\"D:\\bounding_box_merger\\data\\processed\\images\"\n",
    "\n",
    "# # Create the destination folder if it doesn't exist\n",
    "# if not os.path.exists(destination_path):\n",
    "#     os.makedirs(destination_path)\n",
    "\n",
    "# # Unzip the file\n",
    "# with zipfile.ZipFile(zip_file_path, 'r') as zip_ref:\n",
    "#     zip_ref.extractall(destination_path)\n",
    "\n",
    "# print(f\"Files extracted to {destination_path}\")\n"
   ]
  },
  {
   "cell_type": "markdown",
   "metadata": {},
   "source": [
    "# Reading and Preprocessing the images"
   ]
  },
  {
   "cell_type": "code",
   "execution_count": 79,
   "metadata": {},
   "outputs": [],
   "source": [
    "# # Import all the Libraries and Modules.\n",
    "# import cv2\n",
    "# import pytesseract\n",
    "# import os\n",
    "# import numpy as np\n",
    "# import pandas as pd\n",
    "# from pathlib import Path\n",
    "# import re\n",
    "# from pathlib import Path\n",
    "\n",
    "# pytesseract.pytesseract.tesseract_cmd = r\"C:\\Program Files\\Tesseract-OCR\\tesseract.exe\"\n"
   ]
  },
  {
   "cell_type": "markdown",
   "metadata": {},
   "source": [
    "Split all the images where 30% of the image width goes to a 'List A' folder and the remaining 70% to a 'List B' folder"
   ]
  },
  {
   "cell_type": "code",
   "execution_count": 80,
   "metadata": {},
   "outputs": [],
   "source": [
    "# # Define the source directory where all images are stored\n",
    "# source_dir = Path(r\"D:\\bounding_box_merger\\data\\processed\\images\\screening_data_csv_1\")\n",
    "\n",
    "# # Define the target directories for List A and List B images\n",
    "# list_a_dir = Path(r\"D:\\bounding_box_merger\\data\\processed\\images\\List_A\")\n",
    "# list_b_dir = Path(r\"D:\\bounding_box_merger\\data\\processed\\images\\List_B\")\n",
    "\n",
    "# # Create the directories if they don't exist\n",
    "# list_a_dir.mkdir(parents=True, exist_ok=True)\n",
    "# list_b_dir.mkdir(parents=True, exist_ok=True)\n",
    "\n",
    "# # Iterate over each image in the source directory\n",
    "# for image_path in source_dir.glob('*.png'):\n",
    "#     # Load the image\n",
    "#     image = cv2.imread(str(image_path))\n",
    "\n",
    "#     # Check if the image was loaded successfully\n",
    "#     if image is None:\n",
    "#         print(f\"Error: Unable to load image at {image_path}\")\n",
    "#     else:\n",
    "#         # Calculate the split column index based on 30% for List A and 70% for List B\n",
    "#         split_col_index = int(image.shape[1] * 0.3)  # 30% of the width\n",
    "\n",
    "#         # Split the image\n",
    "#         list_a_image = image[:, :split_col_index]\n",
    "#         list_b_image = image[:, split_col_index:]\n",
    "\n",
    "#         # Define the paths to save split images\n",
    "#         list_a_image_path = list_a_dir / f'{image_path.stem}_list_a.png'\n",
    "#         list_b_image_path = list_b_dir / f'{image_path.stem}_list_b.png'\n",
    "        \n",
    "#         # Save the split images\n",
    "#         cv2.imwrite(str(list_a_image_path), list_a_image)\n",
    "#         cv2.imwrite(str(list_b_image_path), list_b_image)\n"
   ]
  },
  {
   "cell_type": "markdown",
   "metadata": {},
   "source": [
    "* Convert the Individual Images to text using pytesseract\n",
    "* Then, the raw text we got from image, clean it using Regular Expression and get the numbers in the for of [x1, y1, x2, y2] for List A and List B\n",
    "* Then convert the numbers to a dataframe."
   ]
  },
  {
   "cell_type": "code",
   "execution_count": 81,
   "metadata": {},
   "outputs": [
    {
     "name": "stdout",
     "output_type": "stream",
     "text": [
      "List A DataFrame shape: (2503, 4)\n",
      "List B DataFrame shape: (2503, 4)\n"
     ]
    }
   ],
   "source": [
    "# # Function to perform OCR and extract bounding boxes to a DataFrame\n",
    "# def ocr_to_dataframe(image_path, pattern):\n",
    "#     # Load the image from disk\n",
    "#     image = cv2.imread(image_path)\n",
    "\n",
    "#     # Convert the image to grayscale to improve OCR accuracy\n",
    "#     gray_image = cv2.cvtColor(image, cv2.COLOR_BGR2GRAY)\n",
    "\n",
    "#     # Perform OCR using PyTesseract\n",
    "#     text = pytesseract.image_to_string(gray_image)\n",
    "\n",
    "#     # Use regular expressions to find all bounding boxes in the text\n",
    "#     matches = re.findall(pattern, text)\n",
    "\n",
    "#     # Convert matches to DataFrame\n",
    "#     return pd.DataFrame(matches, columns=['x1', 'y1', 'x2', 'y2']).astype(int)\n",
    "\n",
    "# # Define the folders for List A and List B images\n",
    "# list_a_folder = Path(r\"D:\\bounding_box_merger\\data\\processed\\images\\List_A\")\n",
    "# list_b_folder = Path(r\"D:\\bounding_box_merger\\data\\processed\\images\\List_B\")\n",
    "\n",
    "# # Pattern to extract bounding boxes\n",
    "# pattern = r'\\[?\\(?(\\d+), (\\d+), (\\d+), (\\d+)\\)?\\]?'\n",
    "\n",
    "# # Initialize empty DataFrames for List A and List B\n",
    "# df_list_a = pd.DataFrame(columns=['x1', 'y1', 'x2', 'y2'])\n",
    "# df_list_b = pd.DataFrame(columns=['x1', 'y1', 'x2', 'y2'])\n",
    "\n",
    "# # Process List A images\n",
    "# for image_path in list_a_folder.glob('*.png'):\n",
    "#     df_temp = ocr_to_dataframe(str(image_path), pattern)\n",
    "#     df_list_a = pd.concat([df_list_a, df_temp], ignore_index=True)\n",
    "\n",
    "# # Process List B images\n",
    "# for image_path in list_b_folder.glob('*.png'):\n",
    "#     df_temp = ocr_to_dataframe(str(image_path), pattern)\n",
    "#     df_list_b = pd.concat([df_list_b, df_temp], ignore_index=True)\n",
    "\n",
    "# # Show the combined DataFrame shapes\n",
    "# print(f\"List A DataFrame shape: {df_list_a.shape}\")\n",
    "# # print(f\"List B DataFrame shape: {df_list_b.shape}\")\n"
   ]
  },
  {
   "cell_type": "markdown",
   "metadata": {},
   "source": [
    "Then Convert the data frame to csv format for both List A and List B"
   ]
  },
  {
   "cell_type": "code",
   "execution_count": 82,
   "metadata": {},
   "outputs": [
    {
     "name": "stdout",
     "output_type": "stream",
     "text": [
      "List A DataFrame saved to D:\\bounding_box_merger\\data\\processed\\csv\\list_a.csv\n",
      "List B DataFrame saved to D:\\bounding_box_merger\\data\\processed\\csv\\list_b.csv\n"
     ]
    }
   ],
   "source": [
    "# # Define file paths for the CSV files\n",
    "# list_a_csv_path = r\"D:\\bounding_box_merger\\data\\processed\\csv\\list_a.csv\"\n",
    "# list_b_csv_path = r\"D:\\bounding_box_merger\\data\\processed\\csv\\list_b.csv\"\n",
    "\n",
    "# # Convert df_list_a to CSV\n",
    "# df_list_a.to_csv(list_a_csv_path, index=False)\n",
    "\n",
    "# # Convert df_list_b to CSV\n",
    "# df_list_b.to_csv(list_b_csv_path, index=False)\n",
    "\n",
    "# print(f\"List A DataFrame saved to {list_a_csv_path}\")\n",
    "# print(f\"List B DataFrame saved to {list_b_csv_path}\")\n"
   ]
  },
  {
   "cell_type": "markdown",
   "metadata": {},
   "source": [
    "# Data Pipeline"
   ]
  },
  {
   "cell_type": "code",
   "execution_count": 85,
   "metadata": {},
   "outputs": [],
   "source": [
    "import os\n",
    "import cv2\n",
    "import zipfile\n",
    "import pandas as pd\n",
    "import pytesseract\n",
    "import numpy as np\n",
    "from pathlib import Path\n",
    "import re\n",
    "\n",
    "def process_images(zip_file_path, destination_path, tesseract_path):\n",
    "    # Set tesseract path\n",
    "    pytesseract.pytesseract.tesseract_cmd = tesseract_path\n",
    "\n",
    "    # Extract zip file\n",
    "    with zipfile.ZipFile(zip_file_path, 'r') as zip_ref:\n",
    "        zip_ref.extractall(destination_path)\n",
    "    print(f\"Files extracted to {destination_path}\")\n",
    "\n",
    "    # Define directories\n",
    "    source_dir = Path(destination_path, \"screening_data_csv_1\")\n",
    "    list_a_dir = Path(destination_path, \"List_A\")\n",
    "    list_b_dir = Path(destination_path, \"List_B\")\n",
    "\n",
    "    # Create directories if they don't exist\n",
    "    list_a_dir.mkdir(parents=True, exist_ok=True)\n",
    "    list_b_dir.mkdir(parents=True, exist_ok=True)\n",
    "\n",
    "    # Split images\n",
    "    for image_path in source_dir.glob('*.png'):\n",
    "        image = cv2.imread(str(image_path))\n",
    "        if image is None:\n",
    "            print(f\"Error: Unable to load image at {image_path}\")\n",
    "        else:\n",
    "            split_col_index = int(image.shape[1] * 0.3)  # 30% of the width\n",
    "            list_a_image = image[:, :split_col_index]\n",
    "            list_b_image = image[:, split_col_index:]\n",
    "            list_a_image_path = list_a_dir / f'{image_path.stem}_list_a.png'\n",
    "            list_b_image_path = list_b_dir / f'{image_path.stem}_list_b.png'\n",
    "            cv2.imwrite(str(list_a_image_path), list_a_image)\n",
    "            cv2.imwrite(str(list_b_image_path), list_b_image)\n",
    "\n",
    "    # OCR to dataframe\n",
    "    def ocr_to_dataframe(image_path, pattern):\n",
    "        image = cv2.imread(image_path)\n",
    "        gray_image = cv2.cvtColor(image, cv2.COLOR_BGR2GRAY)\n",
    "        text = pytesseract.image_to_string(gray_image)\n",
    "        matches = re.findall(pattern, text)\n",
    "        return pd.DataFrame(matches, columns=['x1', 'y1', 'x2', 'y2']).astype(int)\n",
    "\n",
    "    # Process List A and List B images\n",
    "    pattern = r'\\[?\\(?(\\d+), (\\d+), (\\d+), (\\d+)\\)?\\]?'\n",
    "    df_list_a = pd.DataFrame(columns=['x1', 'y1', 'x2', 'y2'])\n",
    "    df_list_b = pd.DataFrame(columns=['x1', 'y1', 'x2', 'y2'])\n",
    "\n",
    "    for image_path in list_a_dir.glob('*.png'):\n",
    "        df_temp = ocr_to_dataframe(str(image_path), pattern)\n",
    "        df_list_a = pd.concat([df_list_a, df_temp], ignore_index=True)\n",
    "\n",
    "    for image_path in list_b_dir.glob('*.png'):\n",
    "        df_temp = ocr_to_dataframe(str(image_path), pattern)\n",
    "        df_list_b = pd.concat([df_list_b, df_temp], ignore_index=True)\n",
    "\n",
    "    print(f\"List A DataFrame shape: {df_list_a.shape}\")\n",
    "    print(f\"List B DataFrame shape: {df_list_b.shape}\")\n",
    "\n",
    "    # Delete processed images\n",
    "    for image_path in list_a_dir.glob('*.png'):\n",
    "        os.remove(image_path)\n",
    "\n",
    "    for image_path in list_b_dir.glob('*.png'):\n",
    "        os.remove(image_path)\n",
    "    \n",
    "    list_a_csv_path = r\"D:\\bounding_box_merger\\data\\processed\\csv\\list_a.csv\"\n",
    "    list_b_csv_path = r\"D:\\bounding_box_merger\\data\\processed\\csv\\list_b.csv\"\n",
    "\n",
    "    # Convert df_list_a to CSV\n",
    "    df_list_a.to_csv(list_a_csv_path, index=False)\n",
    "\n",
    "    # Convert df_list_b to CSV\n",
    "    df_list_b.to_csv(list_b_csv_path, index=False)\n",
    "\n",
    "    print(f\"List A DataFrame saved to {list_a_csv_path}\")\n",
    "    print(f\"List B DataFrame saved to {list_b_csv_path}\")\n",
    "\n",
    "    return df_list_a, df_list_b\n"
   ]
  },
  {
   "cell_type": "code",
   "execution_count": 86,
   "metadata": {},
   "outputs": [
    {
     "name": "stdout",
     "output_type": "stream",
     "text": [
      "Files extracted to D:\\bounding_box_merger\\data\\processed\\images\n",
      "List A DataFrame shape: (2503, 4)\n",
      "List B DataFrame shape: (2503, 4)\n",
      "List A DataFrame saved to D:\\bounding_box_merger\\data\\processed\\csv\\list_a.csv\n",
      "List B DataFrame saved to D:\\bounding_box_merger\\data\\processed\\csv\\list_b.csv\n"
     ]
    },
    {
     "data": {
      "text/plain": [
       "(        x1    y1    x2    y2\n",
       " 0     2929  1727  3056  1801\n",
       " 1      714  3826   784  4033\n",
       " 2     1970  2461  2028  2654\n",
       " 3     5690  2156  5801  2247\n",
       " 4     4026  3674  4138  3781\n",
       " ...    ...   ...   ...   ...\n",
       " 2498  1930  1728  2049  1798\n",
       " 2499  4028  3468  4110  3601\n",
       " 2500  5714  2484  5794  2668\n",
       " 2501  4277  1554  4357  1665\n",
       " 2502  3922  1724  4064  1804\n",
       " \n",
       " [2503 rows x 4 columns],\n",
       "         x1    y1    x2    y2\n",
       " 0     2962  1442  3038  1693\n",
       " 1      800  3858  1032  3987\n",
       " 2     2042  2490  2284  2628\n",
       " 3     5800  2111  5973  2267\n",
       " 4     4136  3655  4310  3802\n",
       " ...    ...   ...   ...   ...\n",
       " 2498  1967  1443  2036  1697\n",
       " 2499  4139  3498  4343  3576\n",
       " 2500  5802  2513  6034  2642\n",
       " 2501  4382  1575  4608  1640\n",
       " 2502  3963  1444  4037  1698\n",
       " \n",
       " [2503 rows x 4 columns])"
      ]
     },
     "execution_count": 86,
     "metadata": {},
     "output_type": "execute_result"
    }
   ],
   "source": [
    "process_images(zip_file_path = r\"D:\\bounding_box_merger\\data\\raw\\screening_data_csv.zip\", destination_path = r\"D:\\bounding_box_merger\\data\\processed\\images\", tesseract_path = r\"C:\\Program Files\\Tesseract-OCR\\tesseract.exe\" )"
   ]
  },
  {
   "cell_type": "markdown",
   "metadata": {},
   "source": [
    "* Extract Images: Unzips and extracts images from a provided ZIP file.\n",
    "* Split Images: Splits each image into two parts, assuming the data for List A and List B are on different sections of the image.\n",
    "* OCR Processing: Applies OCR to each part to extract bounding box coordinates and saves the results into two pandas DataFrames.\n",
    "* Save to CSV: Writes the DataFrames to CSV files for List A and List B, making the data easier to access and use for further processing."
   ]
  },
  {
   "cell_type": "code",
   "execution_count": null,
   "metadata": {},
   "outputs": [],
   "source": []
  }
 ],
 "metadata": {
  "kernelspec": {
   "display_name": "venv",
   "language": "python",
   "name": "python3"
  },
  "language_info": {
   "codemirror_mode": {
    "name": "ipython",
    "version": 3
   },
   "file_extension": ".py",
   "mimetype": "text/x-python",
   "name": "python",
   "nbconvert_exporter": "python",
   "pygments_lexer": "ipython3",
   "version": "3.10.0"
  }
 },
 "nbformat": 4,
 "nbformat_minor": 2
}
